{
  "nbformat": 4,
  "nbformat_minor": 0,
  "metadata": {
    "colab": {
      "provenance": [],
      "authorship_tag": "ABX9TyP8gmy3owWbi711l3EM84t+",
      "include_colab_link": true
    },
    "kernelspec": {
      "name": "python3",
      "display_name": "Python 3"
    },
    "language_info": {
      "name": "python"
    }
  },
  "cells": [
    {
      "cell_type": "markdown",
      "metadata": {
        "id": "view-in-github",
        "colab_type": "text"
      },
      "source": [
        "<a href=\"https://colab.research.google.com/github/NGHZero/PFP191/blob/main/Lab3b.ipynb\" target=\"_parent\"><img src=\"https://colab.research.google.com/assets/colab-badge.svg\" alt=\"Open In Colab\"/></a>"
      ]
    },
    {
      "cell_type": "code",
      "execution_count": 1,
      "metadata": {
        "colab": {
          "base_uri": "https://localhost:8080/"
        },
        "id": "g1uy3LSC1qDh",
        "outputId": "a9346f2f-f114-4053-8ce2-719df1d879ce"
      },
      "outputs": [
        {
          "output_type": "stream",
          "name": "stdout",
          "text": [
            "parliament and partial men are anagrams.\n",
            "software and swear oft are anagrams.\n"
          ]
        }
      ],
      "source": [
        "import string\n",
        "\n",
        "def are_anagrams(str1, str2):\n",
        "\n",
        "    str1 = ''.join(char for char in str1 if char.isalnum())\n",
        "    str2 = ''.join(char for char in str2 if char.isalnum())\n",
        "\n",
        "\n",
        "    str1 = str1.lower()\n",
        "    str2 = str2.lower()\n",
        "\n",
        "    return sorted(str1) == sorted(str2)\n",
        "\n",
        "\n",
        "string1 = \"parliament\"\n",
        "string2 = \"partial men\"\n",
        "result = are_anagrams(string1, string2)\n",
        "print(f\"{string1} and {string2} are {'anagrams' if result else 'not anagrams'}.\")\n",
        "\n",
        "string3 = \"software\"\n",
        "string4 = \"swear oft\"\n",
        "result = are_anagrams(string3, string4)\n",
        "print(f\"{string3} and {string4} are {'anagrams' if result else 'not anagrams'}.\")\n"
      ]
    },
    {
      "cell_type": "code",
      "source": [
        "def is_hexadecimal(string):\n",
        "    return all(char.isdigit() or char.lower() in 'abcdef' for char in string)\n",
        "\n",
        "def hexadecimal_to_decimal(hex_string):\n",
        "    try:\n",
        "        decimal_value = int(hex_string, 16)\n",
        "        return decimal_value\n",
        "    except ValueError:\n",
        "        return None\n",
        "\n",
        "user_input = input(\"Enter a string: \")\n",
        "\n",
        "if is_hexadecimal(user_input):\n",
        "\n",
        "    decimal_value = hexadecimal_to_decimal(user_input)\n",
        "    if decimal_value is not None:\n",
        "        print(f\"The base-10 value is: {decimal_value}\")\n",
        "    else:\n",
        "        print(\"Error: Invalid hexadecimal input.\")\n",
        "else:\n",
        "    print(\"Error: The input string contains non-hexadecimal characters.\")\n"
      ],
      "metadata": {
        "colab": {
          "base_uri": "https://localhost:8080/"
        },
        "id": "oL359rpO1rpI",
        "outputId": "cf1950c6-bd8e-4b70-dd3f-f08dea5cd9cf"
      },
      "execution_count": 2,
      "outputs": [
        {
          "output_type": "stream",
          "name": "stdout",
          "text": [
            "Enter a string: d3\n",
            "The base-10 value is: 211\n"
          ]
        }
      ]
    }
  ]
}