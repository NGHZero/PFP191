{
  "nbformat": 4,
  "nbformat_minor": 0,
  "metadata": {
    "colab": {
      "provenance": [],
      "authorship_tag": "ABX9TyPw+q56fW83dxNIq2OKcv86",
      "include_colab_link": true
    },
    "kernelspec": {
      "name": "python3",
      "display_name": "Python 3"
    },
    "language_info": {
      "name": "python"
    }
  },
  "cells": [
    {
      "cell_type": "markdown",
      "metadata": {
        "id": "view-in-github",
        "colab_type": "text"
      },
      "source": [
        "<a href=\"https://colab.research.google.com/github/NGHZero/PFP191/blob/main/Lab3a.ipynb\" target=\"_parent\"><img src=\"https://colab.research.google.com/assets/colab-badge.svg\" alt=\"Open In Colab\"/></a>"
      ]
    },
    {
      "source": [
        "for i in range(1, 6):\n",
        "  for j in range(1,i+1):\n",
        "    print(j, end=' ')\n",
        "  print()"
      ],
      "cell_type": "code",
      "metadata": {
        "colab": {
          "base_uri": "https://localhost:8080/"
        },
        "id": "JOSIHHoW3oSL",
        "outputId": "9fe23efd-0196-49d5-bd7d-11e36058ba6b"
      },
      "execution_count": 18,
      "outputs": [
        {
          "output_type": "stream",
          "name": "stdout",
          "text": [
            "1 \n",
            "1 2 \n",
            "1 2 3 \n",
            "1 2 3 4 \n",
            "1 2 3 4 5 \n"
          ]
        }
      ]
    },
    {
      "cell_type": "code",
      "source": [
        "def sum_numbers(n):\n",
        "\n",
        "    n = int(input(\"Enter number: \"))\n",
        "    return (n * (n + 1)) // 2\n",
        "\n",
        "\n",
        "print( \"Sum is:\", sum_numbers(n))\n"
      ],
      "metadata": {
        "colab": {
          "base_uri": "https://localhost:8080/"
        },
        "id": "32dXiZC15Mxj",
        "outputId": "93d58c68-af55-4a91-d0e9-d280bd5295b7"
      },
      "execution_count": 19,
      "outputs": [
        {
          "output_type": "stream",
          "name": "stdout",
          "text": [
            "Enter number: 10\n",
            "Sum is: 55\n"
          ]
        }
      ]
    },
    {
      "cell_type": "code",
      "source": [
        "numbers = [75, 150, 145, 5848, 648, 11, 542, 948]\n",
        "\n",
        "for num in numbers:\n",
        "      if num % 5 == 0:\n",
        "\n",
        "        if num > 500:\n",
        "           break\n",
        "        elif num > 150:\n",
        "            continue\n",
        "        else:\n",
        "            print(num)\n"
      ],
      "metadata": {
        "colab": {
          "base_uri": "https://localhost:8080/"
        },
        "id": "B4L0zCK85_1l",
        "outputId": "f060abef-e131-4296-dd86-f0796a5e7843"
      },
      "execution_count": 27,
      "outputs": [
        {
          "output_type": "stream",
          "name": "stdout",
          "text": [
            "75\n",
            "150\n",
            "145\n"
          ]
        }
      ]
    },
    {
      "cell_type": "code",
      "source": [
        "def count_digits(n):\n",
        "    n = int(input(\"Enter number: \"))\n",
        "    return len(str(abs(n)))\n",
        "\n",
        "print(\"Total number of digits is: \", count_digits(n))"
      ],
      "metadata": {
        "colab": {
          "base_uri": "https://localhost:8080/"
        },
        "id": "5woDw_8i7bI2",
        "outputId": "c2fc3b43-2123-4a04-d803-096352977ea4"
      },
      "execution_count": 30,
      "outputs": [
        {
          "output_type": "stream",
          "name": "stdout",
          "text": [
            "Enter number: 13847\n",
            "Total number of digits is:  5\n"
          ]
        }
      ]
    },
    {
      "cell_type": "code",
      "source": [
        "list1([10,20,30,40,50])\n",
        "\n",
        "def list1(lst):\n",
        "    for i in reversed(lst):\n",
        "        print(i)\n",
        "\n"
      ],
      "metadata": {
        "colab": {
          "base_uri": "https://localhost:8080/"
        },
        "id": "7UKwLrJ_8Eoa",
        "outputId": "437b3dff-4ede-4690-9e81-58c929497b8e"
      },
      "execution_count": 34,
      "outputs": [
        {
          "output_type": "stream",
          "name": "stdout",
          "text": [
            "50\n",
            "40\n",
            "30\n",
            "20\n",
            "10\n"
          ]
        }
      ]
    },
    {
      "cell_type": "code",
      "source": [
        "def string(s):\n",
        "\n",
        "    s = input(\" Original string is: \")\n",
        "\n",
        "    length = len(s)\n",
        "\n",
        "    middle = length // 2\n",
        "    if length % 2 == 0:\n",
        "        return s[middle - 2:middle + 2]\n",
        "    else:\n",
        "        return s[middle - 1:middle + 2]\n",
        "\n",
        "print( \" Middle four chars are: \", string(\"s\"))"
      ],
      "metadata": {
        "colab": {
          "base_uri": "https://localhost:8080/"
        },
        "id": "hJ5DtnXX8w5Z",
        "outputId": "4726985b-8e49-4e2d-9fb6-009c5a360781"
      },
      "execution_count": 40,
      "outputs": [
        {
          "output_type": "stream",
          "name": "stdout",
          "text": [
            " Original string is: HoSungHo\n",
            " Middle four chars are:  Sung\n"
          ]
        }
      ]
    },
    {
      "cell_type": "code",
      "source": [
        "def append_string_middle(s1, s2):\n",
        "\n",
        "    s1 = input(\"s1 =\")\n",
        "\n",
        "    s2 = input(\"s2 =\")\n",
        "\n",
        "    length = len(s1)\n",
        "    middle = length // 2\n",
        "    return s1[:middle] + s2 + s1[middle:]\n",
        "\n",
        "print(str(append_string_middle(s1, s2)))"
      ],
      "metadata": {
        "colab": {
          "base_uri": "https://localhost:8080/"
        },
        "id": "mtBMqzMrAfLs",
        "outputId": "a4247bc0-52f4-4e0a-a9fd-18335cc16388"
      },
      "execution_count": 50,
      "outputs": [
        {
          "output_type": "stream",
          "name": "stdout",
          "text": [
            "s1 =Ault\n",
            "s2 =Kelly\n",
            "AuKellylt\n"
          ]
        }
      ]
    },
    {
      "cell_type": "code",
      "source": [
        "def string(s1, s2):\n",
        "\n",
        "    def get_parts(s):\n",
        "        length = len(s)\n",
        "        middle_index = length // 2\n",
        "        return s[0], s[middle_index], s[-1]\n",
        "\n",
        "    s1_first, s1_middle, s1_last = get_parts(s1)\n",
        "    s2_first, s2_middle, s2_last = get_parts(s2)\n",
        "\n",
        "    mixed_string = s1_first + s2_first + s1_middle + s2_middle + s1_last + s2_last\n",
        "\n",
        "    return mixed_string\n",
        "\n",
        "s1 = input(\"s1 = \")\n",
        "s2 = input(\"s2 = \")\n",
        "\n",
        "result = string(s1, s2)\n",
        "print(result)\n"
      ],
      "metadata": {
        "colab": {
          "base_uri": "https://localhost:8080/"
        },
        "id": "lN9_ayEBB6SY",
        "outputId": "32ec6e23-bde2-4d7a-d501-61af488b5045"
      },
      "execution_count": 58,
      "outputs": [
        {
          "output_type": "stream",
          "name": "stdout",
          "text": [
            "s1 = America\n",
            "s2 = Japan\n",
            "AJrpan\n"
          ]
        }
      ]
    },
    {
      "cell_type": "code",
      "source": [
        "str1 = \"PyNaTivE\"\n",
        "lower = []\n",
        "upper = []\n",
        "for char in str1:\n",
        "    if char.islower():\n",
        "\n",
        "        lower.append(char)\n",
        "    else:\n",
        "\n",
        "        upper.append(char)\n",
        "\n",
        "sorted_str = ''.join(lower + upper)\n",
        "print(sorted_str)"
      ],
      "metadata": {
        "colab": {
          "base_uri": "https://localhost:8080/"
        },
        "id": "3VRly_SHDSma",
        "outputId": "c89c3bef-c6d8-45da-840c-c30622d7d8ca"
      },
      "execution_count": 62,
      "outputs": [
        {
          "output_type": "stream",
          "name": "stdout",
          "text": [
            "yaivPNTE\n"
          ]
        }
      ]
    },
    {
      "cell_type": "code",
      "source": [
        "def find_digits_chars_symbols(sample_str):\n",
        "    char_count = 0\n",
        "    digit_count = 0\n",
        "    symbol_count = 0\n",
        "    for char in sample_str:\n",
        "        if char.isalpha():\n",
        "            char_count += 1\n",
        "        elif char.isdigit():\n",
        "            digit_count += 1\n",
        "\n",
        "        else:\n",
        "            symbol_count += 1\n",
        "\n",
        "    print(\"Chars =\", char_count, \"Digits =\", digit_count, \"Symbol =\", symbol_count)\n",
        "\n",
        "sample_str = \"P@yn2at&dfsdfd&^^^&^^&^#i5ve\"\n",
        "print( \"Input string = \" , sample_str)\n",
        "print(\"total counts of chars, Digits, and symbols\")\n",
        "\n",
        "find_digits_chars_symbols(sample_str)\n"
      ],
      "metadata": {
        "colab": {
          "base_uri": "https://localhost:8080/"
        },
        "id": "HvVhIJjWEAc5",
        "outputId": "05a3f67a-fbcb-496b-d4d6-c91e3c88a589"
      },
      "execution_count": 68,
      "outputs": [
        {
          "output_type": "stream",
          "name": "stdout",
          "text": [
            "Input string =  P@yn2at&dfsdfd&^^^&^^&^#i5ve\n",
            "total counts of chars, Digits, and symbols\n",
            "Chars = 14 Digits = 2 Symbol = 12\n"
          ]
        }
      ]
    },
    {
      "cell_type": "code",
      "source": [
        "def remove_non_integers(s):\n",
        "    result = \"\"\n",
        "    for char in s:\n",
        "        if char.isdigit():\n",
        "            result += char\n",
        "    return result\n",
        "str1 = 'I am 25 years and 10 months old '\n",
        "\n",
        "print(remove_non_integers(str1))"
      ],
      "metadata": {
        "colab": {
          "base_uri": "https://localhost:8080/"
        },
        "id": "AmfebaJdE91H",
        "outputId": "49fbe4e7-df39-4794-d543-7c220f3abf81"
      },
      "execution_count": 70,
      "outputs": [
        {
          "output_type": "stream",
          "name": "stdout",
          "text": [
            "2510\n"
          ]
        }
      ]
    },
    {
      "cell_type": "code",
      "source": [
        "def remove_punctuation(str1):\n",
        "    result = \"\"\n",
        "    for char in str1:\n",
        "        if char.isidentifier():\n",
        "            result += char\n",
        "    return result\n",
        "\n",
        "str1 = \"/*Jon is @developer & musician\"\n",
        "print(remove_punctuation(str1))"
      ],
      "metadata": {
        "colab": {
          "base_uri": "https://localhost:8080/"
        },
        "id": "U8uB7vnQF9Mk",
        "outputId": "8cb372b4-93f1-4da9-de78-7265f537180d"
      },
      "execution_count": 74,
      "outputs": [
        {
          "output_type": "stream",
          "name": "stdout",
          "text": [
            "Jonisdevelopermusician\n"
          ]
        }
      ]
    }
  ]
}